{
  "nbformat": 4,
  "nbformat_minor": 0,
  "metadata": {
    "colab": {
      "provenance": [],
      "authorship_tag": "ABX9TyMt7JZMob4vso58NwTM7EVC",
      "include_colab_link": true
    },
    "kernelspec": {
      "name": "python3",
      "display_name": "Python 3"
    },
    "language_info": {
      "name": "python"
    }
  },
  "cells": [
    {
      "cell_type": "markdown",
      "metadata": {
        "id": "view-in-github",
        "colab_type": "text"
      },
      "source": [
        "<a href=\"https://colab.research.google.com/github/MarkClarenceRodriguez/OOP-58002/blob/main/Hands_on_No_1.ipynb\" target=\"_parent\"><img src=\"https://colab.research.google.com/assets/colab-badge.svg\" alt=\"Open In Colab\"/></a>"
      ]
    },
    {
      "cell_type": "markdown",
      "source": [
        "Hands-on No.1"
      ],
      "metadata": {
        "id": "khipxifn-FW7"
      }
    },
    {
      "cell_type": "markdown",
      "source": [
        "1. Create a python program that display the name of three students (Student 1, Student 2, and Student 3) and the term grades\n",
        "2. Create a class name Person and attributes - std1, std2, std3, pre, mid, fin\n",
        "3.Compute the average of each term grade using Grade() method\n",
        "4. Information about student's grades must be hidden from others"
      ],
      "metadata": {
        "id": "vKryQ3gK_IEr"
      }
    },
    {
      "cell_type": "code",
      "source": [
        "class Person:\n",
        "  def __init__(self,pre,mid,fin):\n",
        "    self.__pre = pre\n",
        "    self.__mid = mid\n",
        "    self.__fin = fin\n",
        "    \n",
        "  def Grade(self):\n",
        "    return (self.__pre + self.__mid + self.__fin)/3\n",
        "\n",
        "class Student1(Person):\n",
        "  pass\n",
        "class Student2(Person):\n",
        "  pass\n",
        "class Student3(Person):\n",
        "  pass\n",
        "\n",
        "std1 = Student1(80,85,89)\n",
        "std2 = Student2(80,72,93)\n",
        "std3 = Student3(90,75,90)\n",
        "\n",
        "print(\"The semestral grade of Student 1 is:\", std1.Grade())\n",
        "print(\"The semestral grade of Student 2 is:\", std2.Grade())\n",
        "print(\"The semestral grade of Student 3 is:\", std3.Grade())"
      ],
      "metadata": {
        "colab": {
          "base_uri": "https://localhost:8080/"
        },
        "id": "rZUDM5PXUmso",
        "outputId": "044be0bc-3148-42a9-bf46-07662dbbc836"
      },
      "execution_count": 43,
      "outputs": [
        {
          "output_type": "stream",
          "name": "stdout",
          "text": [
            "The semestral grade of Student 1 is: 84.66666666666667\n",
            "The semestral grade of Student 2 is: 81.66666666666667\n",
            "The semestral grade of Student 3 is: 85.0\n"
          ]
        }
      ]
    }
  ]
}