{
  "nbformat": 4,
  "nbformat_minor": 0,
  "metadata": {
    "colab": {
      "provenance": [],
      "authorship_tag": "ABX9TyNep7jiavmU6ItYH2mfcFDM",
      "include_colab_link": true
    },
    "kernelspec": {
      "name": "python3",
      "display_name": "Python 3"
    },
    "language_info": {
      "name": "python"
    }
  },
  "cells": [
    {
      "cell_type": "markdown",
      "metadata": {
        "id": "view-in-github",
        "colab_type": "text"
      },
      "source": [
        "<a href=\"https://colab.research.google.com/github/MarkClarenceRodriguez/OOP-58002/blob/main/Control_Structure.ipynb\" target=\"_parent\"><img src=\"https://colab.research.google.com/assets/colab-badge.svg\" alt=\"Open In Colab\"/></a>"
      ]
    },
    {
      "cell_type": "code",
      "source": [
        "#if Statement\n",
        "a = 50\n",
        "b = 50\n",
        "if a>b:\n",
        "  print(\"a is greater than b\")"
      ],
      "metadata": {
        "id": "Dh1tuo7ok1g8"
      },
      "execution_count": 8,
      "outputs": []
    },
    {
      "cell_type": "code",
      "source": [
        "#Else if Statement\n",
        "if a>b:\n",
        "  print(\"a is greaater than b\")\n",
        "else:\n",
        "  print(\"a is less than b\")\n"
      ],
      "metadata": {
        "colab": {
          "base_uri": "https://localhost:8080/"
        },
        "id": "_y4XRuyvlSpk",
        "outputId": "3579db2e-d1b4-4c6c-9595-4ef0a724c5ad"
      },
      "execution_count": 3,
      "outputs": [
        {
          "output_type": "stream",
          "name": "stdout",
          "text": [
            "a is less than b\n"
          ]
        }
      ]
    },
    {
      "cell_type": "code",
      "source": [
        "#Else Statement\n",
        "if a>b:\n",
        "  print(\"a is greater than b\")\n",
        "elif a<b:\n",
        "  print(\"a less than b\")\n",
        "else:\n",
        "  print(\"a is equal to b\")  "
      ],
      "metadata": {
        "colab": {
          "base_uri": "https://localhost:8080/"
        },
        "id": "g2qHhhY5lp3j",
        "outputId": "9d118950-f9e9-4a60-c88d-1c54773f2c23"
      },
      "execution_count": 4,
      "outputs": [
        {
          "output_type": "stream",
          "name": "stdout",
          "text": [
            "a less than b\n"
          ]
        }
      ]
    },
    {
      "cell_type": "markdown",
      "source": [
        "Short hand if..."
      ],
      "metadata": {
        "id": "C1K-AHHqmO9j"
      }
    },
    {
      "cell_type": "code",
      "source": [
        "if a==b: print(\"a is equal to b\")"
      ],
      "metadata": {
        "colab": {
          "base_uri": "https://localhost:8080/"
        },
        "id": "L1UHL1GemWhM",
        "outputId": "5ea229cd-a56d-45ac-e3db-574c8ebbdea9"
      },
      "execution_count": 9,
      "outputs": [
        {
          "output_type": "stream",
          "name": "stdout",
          "text": [
            "a is equal to b\n"
          ]
        }
      ]
    },
    {
      "cell_type": "markdown",
      "source": [
        "Short Hand If..Else"
      ],
      "metadata": {
        "id": "iHDPvIl-mtYM"
      }
    },
    {
      "cell_type": "code",
      "source": [
        "print(\"a is gretater than b\")if a>b else print(\"a is less than b\") "
      ],
      "metadata": {
        "colab": {
          "base_uri": "https://localhost:8080/"
        },
        "id": "Da33p2xJmpYc",
        "outputId": "1e9b55c1-ae5b-4b81-d912-1669d5bb57a9"
      },
      "execution_count": 10,
      "outputs": [
        {
          "output_type": "stream",
          "name": "stdout",
          "text": [
            "a is less than b\n"
          ]
        }
      ]
    },
    {
      "cell_type": "markdown",
      "source": [
        "And Condition\n"
      ],
      "metadata": {
        "id": "UNa5Dqrynloc"
      }
    },
    {
      "cell_type": "code",
      "source": [
        "s = 75\n",
        "t = 70\n",
        "\n",
        "if s>t and t<s:\n",
        "  print(\"s > t aand t<s\")"
      ],
      "metadata": {
        "colab": {
          "base_uri": "https://localhost:8080/"
        },
        "id": "aNnKk4MAnrB0",
        "outputId": "1a700f83-213d-4507-ff94-cc3ef467997e"
      },
      "execution_count": 12,
      "outputs": [
        {
          "output_type": "stream",
          "name": "stdout",
          "text": [
            "s > t aand t<s\n"
          ]
        }
      ]
    },
    {
      "cell_type": "markdown",
      "source": [
        "Or condition"
      ],
      "metadata": {
        "id": "znGc9y6uoA3c"
      }
    },
    {
      "cell_type": "code",
      "source": [
        "print(\"s> t and t<s\")"
      ],
      "metadata": {
        "colab": {
          "base_uri": "https://localhost:8080/"
        },
        "id": "-UCJIyYqoEJU",
        "outputId": "0b438992-4de5-41f6-f36f-ed5ad0afdf96"
      },
      "execution_count": 13,
      "outputs": [
        {
          "output_type": "stream",
          "name": "stdout",
          "text": [
            "s> t and t<s\n"
          ]
        }
      ]
    },
    {
      "cell_type": "markdown",
      "source": [
        "Nested if..."
      ],
      "metadata": {
        "id": "C05c9F_do4G8"
      }
    },
    {
      "cell_type": "markdown",
      "source": [],
      "metadata": {
        "id": "Yta0Oriwq3Nz"
      }
    },
    {
      "cell_type": "code",
      "source": [
        "x = 41\n",
        "\n",
        "if x > 10:\n",
        "    print(\"above 10\")\n",
        "else:\n",
        "    print(\"below 10\")\n",
        "\n",
        "if x > 20:\n",
        "    print(\"above 20\")\n",
        "else:\n",
        "    print(\"below 20\")\n",
        "\n",
        "if x > 30:\n",
        "    print(\"above 30\")\n",
        "else:\n",
        "    print(\"below 30\")\n",
        "\n",
        "if x > 40:\n",
        "    print(\"above 40\")\n",
        "else:\n",
        "    print(\"below 40\")\n",
        "\n",
        "if x > 50:\n",
        "    print(\"above 50\")\n",
        "else:\n",
        "    print(\"below 50\")"
      ],
      "metadata": {
        "colab": {
          "base_uri": "https://localhost:8080/"
        },
        "id": "HfDITBzXo7Ry",
        "outputId": "057c18bb-b69c-404c-ec95-e107cc5d7dc4"
      },
      "execution_count": 49,
      "outputs": [
        {
          "output_type": "stream",
          "name": "stdout",
          "text": [
            "above 10\n",
            "above 20\n",
            "above 30\n",
            "above 40\n",
            "below 50\n"
          ]
        }
      ]
    },
    {
      "cell_type": "markdown",
      "source": [
        "Example 1"
      ],
      "metadata": {
        "id": "XPMzYT0fqVY1"
      }
    },
    {
      "cell_type": "code",
      "source": [
        "x=int(input())\n",
        "if x>=18:\n",
        "  print(\"You are now legal to vote!\")\n",
        "else:\n",
        "  print(\"You re not legal to vote!\")"
      ],
      "metadata": {
        "colab": {
          "base_uri": "https://localhost:8080/"
        },
        "id": "U5y_DhJaqYBD",
        "outputId": "1f67d878-bd3c-4bd4-8df0-65f7ce5863db"
      },
      "execution_count": 52,
      "outputs": [
        {
          "output_type": "stream",
          "name": "stdout",
          "text": [
            "18\n",
            "You are now legal to vote!\n"
          ]
        }
      ]
    },
    {
      "cell_type": "markdown",
      "source": [
        "Example 2"
      ],
      "metadata": {
        "id": "b1r-OVLWweRc"
      }
    },
    {
      "cell_type": "code",
      "source": [
        "x=int(input())\n",
        "if x>0:\n",
        "  print(\"it is Positive\")\n",
        "elif x==0:\n",
        "   print(\"it is Zero\") \n",
        "else:\n",
        "  print(\"it is Negative\")   "
      ],
      "metadata": {
        "colab": {
          "base_uri": "https://localhost:8080/"
        },
        "id": "hy6foQvLwooT",
        "outputId": "bc22f6da-1176-4bd2-9907-e79add2dafbb"
      },
      "execution_count": 69,
      "outputs": [
        {
          "output_type": "stream",
          "name": "stdout",
          "text": [
            "0\n",
            "it is Zero\n"
          ]
        }
      ]
    },
    {
      "cell_type": "markdown",
      "source": [
        "Example 3"
      ],
      "metadata": {
        "id": "oS9tUSBJxTrD"
      }
    },
    {
      "cell_type": "code",
      "source": [
        "x=int(input())\n",
        "if x>=70:\n",
        "  print(\"You have Passed\")\n",
        "elif x<=64:\n",
        "  print(\"You have failed\")\n",
        "else:\n",
        "  print(\"You need to have attend a remedial\")  "
      ],
      "metadata": {
        "id": "u2tOVaqaxWBk"
      },
      "execution_count": null,
      "outputs": []
    }
  ]
}