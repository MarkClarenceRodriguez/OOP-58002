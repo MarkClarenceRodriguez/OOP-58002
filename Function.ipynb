{
  "nbformat": 4,
  "nbformat_minor": 0,
  "metadata": {
    "colab": {
      "provenance": [],
      "authorship_tag": "ABX9TyNktFaaerXbMenqw1MpN/jY",
      "include_colab_link": true
    },
    "kernelspec": {
      "name": "python3",
      "display_name": "Python 3"
    },
    "language_info": {
      "name": "python"
    }
  },
  "cells": [
    {
      "cell_type": "markdown",
      "metadata": {
        "id": "view-in-github",
        "colab_type": "text"
      },
      "source": [
        "<a href=\"https://colab.research.google.com/github/MarkClarenceRodriguez/OOP-58002/blob/main/Function.ipynb\" target=\"_parent\"><img src=\"https://colab.research.google.com/assets/colab-badge.svg\" alt=\"Open In Colab\"/></a>"
      ]
    },
    {
      "cell_type": "code",
      "source": [
        "class Shape:\n",
        "  def __init__(self, length, width):\n",
        "    self.length = length\n",
        "    self.width = width\n",
        "   \n",
        "  def area_rec(self):\n",
        "   return self.length * self.width\n",
        "  #def area_sqr(self,side):\n",
        "   #return self.side * self.side\n",
        "\n",
        "rectangle = Shape(10,5)\n",
        "rectangle.area_rec()"
      ],
      "metadata": {
        "colab": {
          "base_uri": "https://localhost:8080/"
        },
        "id": "xHEJCnyY0ai6",
        "outputId": "0ce4124a-c47e-4d90-cb60-be964405e158"
      },
      "execution_count": 6,
      "outputs": [
        {
          "output_type": "execute_result",
          "data": {
            "text/plain": [
              "50"
            ]
          },
          "metadata": {},
          "execution_count": 6
        }
      ]
    },
    {
      "cell_type": "markdown",
      "source": [
        "Create function that will display your full name and name your class as Person"
      ],
      "metadata": {
        "id": "hLF4Y4Wl3ZwC"
      }
    },
    {
      "cell_type": "code",
      "source": [
        "def name():\n",
        " return \"Mark Clarence R. Rodriguez\"\n",
        "def classroom():\n",
        "  return \"CPE\"\n",
        "print(\"My name is \" + name() + \"and my Class is \" + classroom()) "
      ],
      "metadata": {
        "colab": {
          "base_uri": "https://localhost:8080/"
        },
        "id": "LpQgAFXP3jdK",
        "outputId": "88dbe979-2b6f-4f3e-fd0a-3fc09eeeb591"
      },
      "execution_count": 20,
      "outputs": [
        {
          "output_type": "stream",
          "name": "stdout",
          "text": [
            "My name is Mark Clarence R. Rodriguezand my Class is CPE\n"
          ]
        }
      ]
    }
  ]
}