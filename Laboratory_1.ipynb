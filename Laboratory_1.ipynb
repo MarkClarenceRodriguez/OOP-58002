{
  "nbformat": 4,
  "nbformat_minor": 0,
  "metadata": {
    "colab": {
      "provenance": [],
      "authorship_tag": "ABX9TyP7CafkxjwwOwQ8R9wtk7lq",
      "include_colab_link": true
    },
    "kernelspec": {
      "name": "python3",
      "display_name": "Python 3"
    },
    "language_info": {
      "name": "python"
    }
  },
  "cells": [
    {
      "cell_type": "markdown",
      "metadata": {
        "id": "view-in-github",
        "colab_type": "text"
      },
      "source": [
        "<a href=\"https://colab.research.google.com/github/MarkClarenceRodriguez/OOP-58002/blob/main/Laboratory_1.ipynb\" target=\"_parent\"><img src=\"https://colab.research.google.com/assets/colab-badge.svg\" alt=\"Open In Colab\"/></a>"
      ]
    },
    {
      "cell_type": "code",
      "execution_count": 1,
      "metadata": {
        "colab": {
          "base_uri": "https://localhost:8080/"
        },
        "id": "sF2C3SkJzZV3",
        "outputId": "5f99de8a-f726-4aae-908f-a72d3a8cf4db"
      },
      "outputs": [
        {
          "output_type": "stream",
          "name": "stdout",
          "text": [
            "sum= 0\n",
            "average 0.0\n",
            "sum= 1\n",
            "average 0.05\n",
            "sum= 2\n",
            "average 0.1\n",
            "sum= 3\n",
            "average 0.15\n",
            "sum= 4\n",
            "average 0.2\n",
            "sum= 5\n",
            "average 0.25\n",
            "sum= 6\n",
            "average 0.3\n",
            "sum= 7\n",
            "average 0.35\n",
            "sum= 8\n",
            "average 0.4\n",
            "sum= 9\n",
            "average 0.45\n",
            "sum= 10\n",
            "average 0.5\n",
            "sum= 11\n",
            "average 0.55\n",
            "sum= 12\n",
            "average 0.6\n",
            "sum= 13\n",
            "average 0.65\n",
            "sum= 14\n",
            "average 0.7\n",
            "sum= 15\n",
            "average 0.75\n",
            "sum= 16\n",
            "average 0.8\n",
            "sum= 17\n",
            "average 0.85\n",
            "sum= 18\n",
            "average 0.9\n",
            "sum= 19\n",
            "average 0.95\n",
            "sum= 20\n",
            "average 1.0\n"
          ]
        }
      ],
      "source": [
        "n = 20\n",
        "t = n\n",
        "sum = 0\n",
        "average = 0\n",
        "\n",
        "while n>=0:\n",
        "  print(\"sum=\",sum)\n",
        "  print(\"average\",sum/t) \n",
        "  sum+=1\n",
        "  n-=1"
      ]
    }
  ]
}