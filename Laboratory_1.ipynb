{
  "nbformat": 4,
  "nbformat_minor": 0,
  "metadata": {
    "colab": {
      "provenance": [],
      "authorship_tag": "ABX9TyN4XtTHchCiQIB/w9KQMiMo",
      "include_colab_link": true
    },
    "kernelspec": {
      "name": "python3",
      "display_name": "Python 3"
    },
    "language_info": {
      "name": "python"
    }
  },
  "cells": [
    {
      "cell_type": "markdown",
      "metadata": {
        "id": "view-in-github",
        "colab_type": "text"
      },
      "source": [
        "<a href=\"https://colab.research.google.com/github/MarkClarenceRodriguez/OOP-58002/blob/main/Laboratory_1.ipynb\" target=\"_parent\"><img src=\"https://colab.research.google.com/assets/colab-badge.svg\" alt=\"Open In Colab\"/></a>"
      ]
    },
    {
      "cell_type": "code",
      "execution_count": 9,
      "metadata": {
        "colab": {
          "base_uri": "https://localhost:8080/"
        },
        "id": "sF2C3SkJzZV3",
        "outputId": "b7c61854-77e9-4731-8511-b800719b3d41"
      },
      "outputs": [
        {
          "output_type": "stream",
          "name": "stdout",
          "text": [
            "Total numbers: 21\n",
            "Sum: 210\n",
            "Average: 10.0\n"
          ]
        }
      ],
      "source": [
        "n = 20\n",
        "total_numbers = 0\n",
        "total_sum = 0\n",
        "\n",
        "while n >= 0:\n",
        "    total_sum += n\n",
        "    total_numbers += 1\n",
        "    n -= 1\n",
        "\n",
        "if n < 0:\n",
        "    average = total_sum / total_numbers\n",
        "    print(f\"Total numbers: {total_numbers}\")\n",
        "    print(f\"Sum: {total_sum}\")\n",
        "    print(f\"Average: {average}\")"
      ]
    }
  ]
}