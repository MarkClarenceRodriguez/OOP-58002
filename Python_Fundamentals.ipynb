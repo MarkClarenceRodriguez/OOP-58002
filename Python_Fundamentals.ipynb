{
  "nbformat": 4,
  "nbformat_minor": 0,
  "metadata": {
    "colab": {
      "provenance": [],
      "authorship_tag": "ABX9TyPa9035cq5y9XDa47IVYSiT",
      "include_colab_link": true
    },
    "kernelspec": {
      "name": "python3",
      "display_name": "Python 3"
    },
    "language_info": {
      "name": "python"
    }
  },
  "cells": [
    {
      "cell_type": "markdown",
      "metadata": {
        "id": "view-in-github",
        "colab_type": "text"
      },
      "source": [
        "<a href=\"https://colab.research.google.com/github/MarkClarenceRodriguez/OOP-58002/blob/main/Python_Fundamentals.ipynb\" target=\"_parent\"><img src=\"https://colab.research.google.com/assets/colab-badge.svg\" alt=\"Open In Colab\"/></a>"
      ]
    },
    {
      "cell_type": "code",
      "execution_count": null,
      "metadata": {
        "id": "47c9fqsewQd-"
      },
      "outputs": [],
      "source": []
    },
    {
      "cell_type": "markdown",
      "source": [
        "Python Indentation"
      ],
      "metadata": {
        "id": "6slrWSmdwvUk"
      }
    },
    {
      "cell_type": "markdown",
      "source": [],
      "metadata": {
        "id": "WMoiWZICx4S0"
      }
    },
    {
      "cell_type": "code",
      "source": [
        "if 5>2:\n",
        "  print(\"5>2\")"
      ],
      "metadata": {
        "colab": {
          "base_uri": "https://localhost:8080/"
        },
        "id": "jAS3w1DJw1W0",
        "outputId": "9e2363f1-f0f1-455b-9134-b18bc6f98db6"
      },
      "execution_count": null,
      "outputs": [
        {
          "output_type": "stream",
          "name": "stdout",
          "text": [
            "5>2\n"
          ]
        }
      ]
    },
    {
      "cell_type": "markdown",
      "source": [
        "Python comment"
      ],
      "metadata": {
        "id": "az244xOjx9tE"
      }
    },
    {
      "cell_type": "code",
      "source": [
        "#this is comment\n",
        "print (\"Hello, world\")"
      ],
      "metadata": {
        "colab": {
          "base_uri": "https://localhost:8080/"
        },
        "id": "uCy7WeSvyETL",
        "outputId": "2f294cca-b41d-40a0-98f6-b8f28fef7a63"
      },
      "execution_count": null,
      "outputs": [
        {
          "output_type": "stream",
          "name": "stdout",
          "text": [
            "Hello, world\n"
          ]
        }
      ]
    },
    {
      "cell_type": "markdown",
      "source": [
        "Naming variable"
      ],
      "metadata": {
        "id": "s6Jjs-wDySkO"
      }
    },
    {
      "cell_type": "code",
      "source": [
        "#Single variable with single value\n",
        "x = 1\n",
        "y = 2\n",
        "print(x)\n",
        "print(y)\n",
        "\n",
        "#multiple variable with a single value\n",
        "\n",
        "a = b = c = \"Rodriguez\"\n",
        "print(a)\n",
        "print(b)\n",
        "print(c)\n",
        "\n",
        "#Multiple variable with multiple values\n",
        "\n",
        "e, f,g=1,2,3\n",
        "print(e)\n",
        "print(f)\n",
        "print(g)\n",
        "\n"
      ],
      "metadata": {
        "colab": {
          "base_uri": "https://localhost:8080/"
        },
        "id": "Khin26UryVWk",
        "outputId": "a235684d-59c0-4072-f7bb-625ea9e5276b"
      },
      "execution_count": null,
      "outputs": [
        {
          "output_type": "stream",
          "name": "stdout",
          "text": [
            "1\n",
            "2\n",
            "Rodriguez\n",
            "Rodriguez\n",
            "Rodriguez\n",
            "1\n",
            "2\n",
            "3\n"
          ]
        }
      ]
    },
    {
      "cell_type": "markdown",
      "source": [
        "Single or Double"
      ],
      "metadata": {
        "id": "uk9o0I4x0pp7"
      }
    },
    {
      "cell_type": "code",
      "source": [
        "v = \"Sally\"\n",
        "u = 'Sally'\n",
        "print(u)\n",
        "print(v)"
      ],
      "metadata": {
        "colab": {
          "base_uri": "https://localhost:8080/"
        },
        "id": "gZthuIAa04C8",
        "outputId": "2905095b-aaaf-4900-fc4c-f1faeebfc96f"
      },
      "execution_count": null,
      "outputs": [
        {
          "output_type": "stream",
          "name": "stdout",
          "text": [
            "Sally\n",
            "Sally\n"
          ]
        }
      ]
    },
    {
      "cell_type": "markdown",
      "source": [
        "Casting"
      ],
      "metadata": {
        "id": "CEpUvOhS1E-7"
      }
    },
    {
      "cell_type": "code",
      "source": [
        "p = float(5)\n",
        "p"
      ],
      "metadata": {
        "colab": {
          "base_uri": "https://localhost:8080/"
        },
        "id": "rOhJUfDU1LPD",
        "outputId": "a55141b1-f362-4eeb-906a-7bedbe4ac29c"
      },
      "execution_count": null,
      "outputs": [
        {
          "output_type": "execute_result",
          "data": {
            "text/plain": [
              "5.0"
            ]
          },
          "metadata": {},
          "execution_count": 21
        }
      ]
    },
    {
      "cell_type": "markdown",
      "source": [
        "##Type() function"
      ],
      "metadata": {
        "id": "zIF5HxdQ1h-H"
      }
    },
    {
      "cell_type": "code",
      "source": [
        "f = \"Ana\"\n",
        "g = 4.56\n",
        "\n",
        "print(type(f))\n",
        "print(type(g))"
      ],
      "metadata": {
        "colab": {
          "base_uri": "https://localhost:8080/"
        },
        "id": "iq9_qR8u15Qz",
        "outputId": "c5878592-1a13-404b-b713-ed7fd74bbcb5"
      },
      "execution_count": null,
      "outputs": [
        {
          "output_type": "stream",
          "name": "stdout",
          "text": [
            "<class 'str'>\n",
            "<class 'float'>\n"
          ]
        }
      ]
    },
    {
      "cell_type": "markdown",
      "source": [],
      "metadata": {
        "id": "EOlPgAsc3yLS"
      }
    },
    {
      "cell_type": "markdown",
      "source": [
        "Concantenation using + symbol"
      ],
      "metadata": {
        "id": "gHw3ehiD27LD"
      }
    },
    {
      "cell_type": "code",
      "source": [
        "k = \"enjoying\"\n",
        "j = \"Python programming is\"\n",
        "print(\" python programming is\" +\" \" + k)\n",
        "print(j+k)"
      ],
      "metadata": {
        "colab": {
          "base_uri": "https://localhost:8080/"
        },
        "id": "8OO8vn1S3B2q",
        "outputId": "91b26cad-ed96-41f3-9ae1-733859366d4e"
      },
      "execution_count": null,
      "outputs": [
        {
          "output_type": "stream",
          "name": "stdout",
          "text": [
            " python programming is enjoying\n",
            "Python programming isenjoying\n"
          ]
        }
      ]
    }
  ]
}