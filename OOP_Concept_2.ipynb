{
  "nbformat": 4,
  "nbformat_minor": 0,
  "metadata": {
    "colab": {
      "provenance": [],
      "authorship_tag": "ABX9TyP2K3tuEC+Pw68N07casaaY",
      "include_colab_link": true
    },
    "kernelspec": {
      "name": "python3",
      "display_name": "Python 3"
    },
    "language_info": {
      "name": "python"
    }
  },
  "cells": [
    {
      "cell_type": "markdown",
      "metadata": {
        "id": "view-in-github",
        "colab_type": "text"
      },
      "source": [
        "<a href=\"https://colab.research.google.com/github/MarkClarenceRodriguez/OOP-58002/blob/main/OOP_Concept_2.ipynb\" target=\"_parent\"><img src=\"https://colab.research.google.com/assets/colab-badge.svg\" alt=\"Open In Colab\"/></a>"
      ]
    },
    {
      "cell_type": "code",
      "execution_count": null,
      "metadata": {
        "colab": {
          "base_uri": "https://localhost:8080/"
        },
        "id": "aHqOlczr6EkR",
        "outputId": "eff3638b-0290-4f7f-f14f-98bfbd1fec85"
      },
      "outputs": [
        {
          "output_type": "execute_result",
          "data": {
            "text/plain": [
              "7"
            ]
          },
          "metadata": {},
          "execution_count": 6
        }
      ],
      "source": [
        "\n",
        "class foo:\n",
        " def __init__(self,a,b):\n",
        "  self.a = a\n",
        "  self.b = b\n",
        " def add(self):\n",
        "  return self.a + self.b\n",
        "foo_object = foo(3,4)\n",
        "foo_object.add()"
      ]
    },
    {
      "cell_type": "code",
      "source": [
        "#Class with multiple objects\n",
        "\n",
        "class birds:\n",
        "  def __init__(self,name_birds):\n",
        "    self.name_birds = name_birds\n",
        "  def flying_birds(self):\n",
        "    print(f\"The {self.name_birds} is the flying bird above the sky\")\n",
        "  def non_flying_birds(self):\n",
        "    print(f\"The {self.name_birds} is the non flying bird\")\n",
        "  \n",
        "eagle = birds(\"Eagle\")\n",
        "chicken = birds(\"Chicken\")\n",
        "eagle.flying_birds()\n",
        "chicken.non_flying_birds()"
      ],
      "metadata": {
        "colab": {
          "base_uri": "https://localhost:8080/"
        },
        "id": "pNZsxcdc9YsQ",
        "outputId": "99f3717d-02a3-4224-b20b-67e9521ad0fe"
      },
      "execution_count": null,
      "outputs": [
        {
          "output_type": "stream",
          "name": "stdout",
          "text": [
            "The Eagle is the flying bird above the sky\n",
            "The Chicken is the non flying bird\n"
          ]
        }
      ]
    },
    {
      "cell_type": "code",
      "source": [
        "#Encapsulation\n",
        "\n",
        "class foo:\n",
        "  def __init__(self,a,b):\n",
        "    self.__a = a\n",
        "    self.__b = b\n",
        "  def add(self):\n",
        "    return self.__a + self.__b\n",
        "\n",
        "foo_object = foo(3,4)\n",
        "foo_object.add()\n",
        "foo_object.a = 7\n",
        "foo_object.b = 6\n",
        "foo_object.add()"
      ],
      "metadata": {
        "colab": {
          "base_uri": "https://localhost:8080/"
        },
        "id": "di4G_NZL_ej_",
        "outputId": "df253c2d-2039-4403-bdda-d0c5689eeb8d"
      },
      "execution_count": null,
      "outputs": [
        {
          "output_type": "execute_result",
          "data": {
            "text/plain": [
              "7"
            ]
          },
          "metadata": {},
          "execution_count": 8
        }
      ]
    },
    {
      "cell_type": "code",
      "source": [
        "#Inheritance\n",
        "class Person:\n",
        "  def __init__(self,name,birthdate):\n",
        "    self.name = name\n",
        "    self.birthdate = birthdate\n",
        "  def display(self):\n",
        "    print(\"My name is\",self.name)\n",
        "    print(\"My birthdate is\",self.birthdate)\n",
        "class Student(Person):\n",
        "  pass\n",
        "person = Person(\"Maria\",\"Feberuary 13, 1990\")   \n",
        "person.display()\n",
        "\n",
        "student = Student(\"Ana\", \"March 14, 1991\")\n",
        "student.display()"
      ],
      "metadata": {
        "colab": {
          "base_uri": "https://localhost:8080/"
        },
        "id": "W_2W_QT3Au3v",
        "outputId": "bfea690b-a80a-4d91-e7b6-9335992d0e23"
      },
      "execution_count": null,
      "outputs": [
        {
          "output_type": "stream",
          "name": "stdout",
          "text": [
            "My name is Maria\n",
            "My birthdate is Feberuary 13, 1990\n",
            "My name is Ana\n",
            "My birthdate is March 14, 1991\n"
          ]
        }
      ]
    },
    {
      "cell_type": "code",
      "source": [
        "# Create a class name Shapes (5 shapes)\n",
        "# attribute side\n",
        "# create a function/method that display the\n",
        "# no. of sides of each shape\n",
        "# apply inheritance and encapsulation\n",
        "\n",
        "class Shapes:\n",
        "    def __init__(self, sides, name):\n",
        "        self.__sides = sides\n",
        "        self.__name = name\n",
        "\n",
        "    def __display_sides(self):\n",
        "        print(f\"{self.__name} has {len(self.__sides)} sides\")\n",
        "\n",
        "class Triangle(Shapes):\n",
        "    def __init__(self, sides):\n",
        "        super().__init__(sides, \"Triangle\")\n",
        "\n",
        "    def display_sides(self):\n",
        "        self._Shapes__display_sides()\n",
        "\n",
        "class Rectangle(Shapes):\n",
        "    def __init__(self, sides):\n",
        "        super().__init__(sides, \"Rectangle\")\n",
        "\n",
        "    def display_sides(self):\n",
        "        self._Shapes__display_sides()\n",
        "\n",
        "class Pentagon(Shapes):\n",
        "    def __init__(self, sides):\n",
        "        super().__init__(sides, \"Pentagon\")\n",
        "\n",
        "    def display_sides(self):\n",
        "        self._Shapes__display_sides()\n",
        "\n",
        "class Hexagon(Shapes):\n",
        "    def __init__(self, sides):\n",
        "        super().__init__(sides, \"Hexagon\")\n",
        "\n",
        "    def display_sides(self):\n",
        "        self._Shapes__display_sides()\n",
        "\n",
        "class Heptagon(Shapes):\n",
        "    def __init__(self, sides):\n",
        "        super().__init__(sides, \"Heptagon\")\n",
        "\n",
        "    def display_sides(self):\n",
        "        self._Shapes__display_sides()\n",
        "\n",
        "\n",
        "triangle = Triangle([3, 4, 5])\n",
        "rectangle = Rectangle([4, 4, 4, 4])\n",
        "pentagon = Pentagon([5, 5, 5, 5, 5])\n",
        "hexagon = Hexagon([6, 6, 6, 6, 6, 6])\n",
        "heptagon = Heptagon([7, 7, 7, 7, 7])\n",
        "\n",
        "triangle.display_sides()    # Triangle has 3 sides\n",
        "rectangle.display_sides()   # Rectangle has 4 sides\n",
        "pentagon.display_sides()    # Pentagon has 5 sides\n",
        "hexagon.display_sides()     # Hexagon has 6 sides\n",
        "heptagon.display_sides()    # Heptagon has 7 sides"
      ],
      "metadata": {
        "colab": {
          "base_uri": "https://localhost:8080/"
        },
        "id": "Z9BqvXy5C2Pm",
        "outputId": "ea771086-15db-42e8-d42e-50add9f396ad"
      },
      "execution_count": null,
      "outputs": [
        {
          "output_type": "stream",
          "name": "stdout",
          "text": [
            "Triangle has 3 sides\n",
            "Rectangle has 4 sides\n",
            "Pentagon has 5 sides\n",
            "Hexagon has 6 sides\n",
            "Heptagon has 5 sides\n"
          ]
        }
      ]
    }
  ]
}