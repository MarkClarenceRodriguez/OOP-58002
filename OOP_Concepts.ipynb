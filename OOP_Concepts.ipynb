{
  "nbformat": 4,
  "nbformat_minor": 0,
  "metadata": {
    "colab": {
      "provenance": [],
      "authorship_tag": "ABX9TyP9nPPOvLUpDZu0KTWHWTkw",
      "include_colab_link": true
    },
    "kernelspec": {
      "name": "python3",
      "display_name": "Python 3"
    },
    "language_info": {
      "name": "python"
    }
  },
  "cells": [
    {
      "cell_type": "markdown",
      "metadata": {
        "id": "view-in-github",
        "colab_type": "text"
      },
      "source": [
        "<a href=\"https://colab.research.google.com/github/MarkClarenceRodriguez/OOP-58002/blob/main/OOP_Concepts.ipynb\" target=\"_parent\"><img src=\"https://colab.research.google.com/assets/colab-badge.svg\" alt=\"Open In Colab\"/></a>"
      ]
    },
    {
      "cell_type": "code",
      "execution_count": 1,
      "metadata": {
        "colab": {
          "base_uri": "https://localhost:8080/"
        },
        "id": "UCE1fAnzuCZc",
        "outputId": "21c88ad6-98bc-44b3-dc8d-c6e9660ebe31"
      },
      "outputs": [
        {
          "output_type": "stream",
          "name": "stdout",
          "text": [
            "4\n"
          ]
        }
      ],
      "source": [
        "#Creation of Class\n",
        "\n",
        "class myClass:  #name of class\n",
        "  y = 4         #property name\n",
        "\n",
        "p1 = myClass()    #create an object p1\n",
        "print(p1.y)       #print the value of y"
      ]
    },
    {
      "cell_type": "code",
      "source": [
        "class myClass:\n",
        "  pass"
      ],
      "metadata": {
        "id": "3HdBPy_ix3jU"
      },
      "execution_count": 2,
      "outputs": []
    },
    {
      "cell_type": "code",
      "source": [
        "#Creation of Method\n",
        "\n",
        "class Persons:\n",
        "  def __init__(self,name):\n",
        "    self.name = name\n",
        "    \n",
        "\n",
        "  def myfunction(self):\n",
        "    print(\"HEllo, my name is\", self.name)\n",
        "\n",
        "teacher = Persons(\"Maria\")\n",
        "teacher.myfunction()    "
      ],
      "metadata": {
        "colab": {
          "base_uri": "https://localhost:8080/"
        },
        "id": "ffsqvDi6yCdk",
        "outputId": "d65e865f-3d45-4aad-f10e-c5898467a4b1"
      },
      "execution_count": 3,
      "outputs": [
        {
          "output_type": "stream",
          "name": "stdout",
          "text": [
            "HEllo, my name is Maria\n"
          ]
        }
      ]
    },
    {
      "cell_type": "code",
      "source": [
        "#Modification of Object Properties\n",
        "teacher.name = \"Ana\"\n",
        "teacher.myfunction()"
      ],
      "metadata": {
        "colab": {
          "base_uri": "https://localhost:8080/"
        },
        "id": "0CrtpAGnzj7V",
        "outputId": "fd5bbd87-a360-4b05-a0cd-dc67b41afe81"
      },
      "execution_count": 4,
      "outputs": [
        {
          "output_type": "stream",
          "name": "stdout",
          "text": [
            "HEllo, my name is Ana\n"
          ]
        }
      ]
    },
    {
      "cell_type": "code",
      "source": [
        "#Deletion of Object Properties\n",
        "\n",
        "print(teacher.name)"
      ],
      "metadata": {
        "colab": {
          "base_uri": "https://localhost:8080/"
        },
        "id": "usIJ_fGj0C-g",
        "outputId": "7ea3cc47-050f-4e5b-e984-1633bb820a67"
      },
      "execution_count": 5,
      "outputs": [
        {
          "output_type": "stream",
          "name": "stdout",
          "text": [
            "Ana\n"
          ]
        }
      ]
    },
    {
      "cell_type": "code",
      "source": [
        "class Shapes:\n",
        "  def __init__(self,side1,side2):\n",
        "    self.side1 = side1\n",
        "    self.side2 = side2\n",
        "  \n",
        "\n",
        "  def area_rectangle(self):\n",
        "    return self.side1 * self.side2\n",
        " \n",
        "\n",
        "  def display_rectangle(self):\n",
        "    print(\"The area of the rectangle is\",self.area_rectangle())\n",
        "\n",
        "\n",
        "rectangle = Shapes(10,5)\n",
        "\n",
        "rectangle.display_rectangle()\n"
      ],
      "metadata": {
        "colab": {
          "base_uri": "https://localhost:8080/"
        },
        "id": "Mxlps_yB1Unb",
        "outputId": "3f1082ec-bc7c-47a8-a179-2a6267594f25"
      },
      "execution_count": 6,
      "outputs": [
        {
          "output_type": "stream",
          "name": "stdout",
          "text": [
            "The area of the rectangle is 50\n"
          ]
        }
      ]
    },
    {
      "cell_type": "code",
      "source": [
        "#Inheritance\n",
        "\n",
        "class Shapes:\n",
        "  def __init__(self,side1,side2):\n",
        "    self.side1 = side1\n",
        "    self.side2 = side2\n",
        "  \n",
        "class Square(Shapes):\n",
        "  def area_square(self):\n",
        "    return self.side1*self.side1\n",
        "  def display_square(self):\n",
        "    print(\"The area of square is\",self.area_square())\n",
        "\n",
        "\n",
        "class Rectangle(Shapes):\n",
        "  def area_rectangle(self):\n",
        "    print(self.side1*self.side2)\n",
        "  def display_rectangle(self):\n",
        "    print(\"The area of rectangle is\",self.display_rectangle())\n",
        "\n",
        "square = Square(4,4)\n",
        "\n",
        "rectangle = Rectangle(10,5)\n",
        "\n",
        "square.display_square()\n",
        "rectangle.display_rectangle()\n"
      ],
      "metadata": {
        "id": "XIKwSXPl7kb3"
      },
      "execution_count": null,
      "outputs": []
    },
    {
      "cell_type": "code",
      "source": [
        "#Create your own Python program that has the following:\n",
        "#Person as class name\n",
        "#Fullname, age and school as attributes\n",
        "# Identity() as method to display your fullname, age and school\n",
        "#person as object name\n",
        "\n",
        "\n",
        "class Person:\n",
        "    def __init__(self, fullname, age, school):\n",
        "        self.fullname = fullname\n",
        "        self.age = age\n",
        "        self.school = school\n",
        "        \n",
        "    def Identity(self):\n",
        "        print(\"Fullname:\", self.fullname)\n",
        "        print(\"Age:\", self.age)\n",
        "        print(\"School:\", self.school)\n",
        "        \n",
        "person = Person(\"Mark Clarence R. Rodriguez \", 21, \"Adamson University\")\n",
        "person.Identity()"
      ],
      "metadata": {
        "colab": {
          "base_uri": "https://localhost:8080/"
        },
        "id": "Ptz9aylq7rVw",
        "outputId": "cc7ea20f-c0c2-49a4-a6db-244326ce2997"
      },
      "execution_count": 2,
      "outputs": [
        {
          "output_type": "stream",
          "name": "stdout",
          "text": [
            "Fullname: Mark Clarence R. Rodriguez \n",
            "Age: 21\n",
            "School: Adamson University\n"
          ]
        }
      ]
    }
  ]
}